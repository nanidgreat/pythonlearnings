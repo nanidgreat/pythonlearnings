{
  "nbformat": 4,
  "nbformat_minor": 0,
  "metadata": {
    "colab": {
      "provenance": [],
      "authorship_tag": "ABX9TyMbr2W+JsasIk9d1TSp6iH0",
      "include_colab_link": true
    },
    "kernelspec": {
      "name": "python3",
      "display_name": "Python 3"
    },
    "language_info": {
      "name": "python"
    }
  },
  "cells": [
    {
      "cell_type": "markdown",
      "metadata": {
        "id": "view-in-github",
        "colab_type": "text"
      },
      "source": [
        "<a href=\"https://colab.research.google.com/github/nanidgreat/pythonlearnings/blob/main/basics.ipynb\" target=\"_parent\"><img src=\"https://colab.research.google.com/assets/colab-badge.svg\" alt=\"Open In Colab\"/></a>"
      ]
    },
    {
      "cell_type": "markdown",
      "source": [
        "# 1. All about print function\n",
        "*   Multiple strings can be seperated by comma(,) to print them\n",
        "*   All types data types be printed with separted by command\n",
        "*   Each item to be printed can be separted by 'sep=\"\" ' parameter in print\n",
        "*   'end=\"\" ' parameter can be used to change the end of the string to be printed\n",
        "\n",
        "\n",
        "\n"
      ],
      "metadata": {
        "id": "SDqILb9DIObx"
      }
    },
    {
      "cell_type": "code",
      "source": [
        "print(\"Hello\",\"how are you\")\n",
        "print(\"hello\",True,5,3.14)\n",
        "print(\"hello\",True,5,3.14,sep=\"-\")\n",
        "print(\"hello\",True,5,3.14,end=\"/\")\n",
        "print(\"I am\")"
      ],
      "metadata": {
        "colab": {
          "base_uri": "https://localhost:8080/"
        },
        "id": "Vz2246JdIS7h",
        "outputId": "408b6bd6-69d8-49a5-f0bf-bfd1ad1bdeb4"
      },
      "execution_count": 9,
      "outputs": [
        {
          "output_type": "stream",
          "name": "stdout",
          "text": [
            "Hello how are you\n",
            "hello True 5 3.14\n",
            "hello-True-5-3.14\n",
            "hello True 5 3.14/I am\n"
          ]
        }
      ]
    },
    {
      "cell_type": "markdown",
      "source": [
        "# 2. Data types in Python\n",
        "There are 3 types of Data types in python.They are\n",
        "*   Basic types(Integer,float,complex,boolean,string)\n",
        "*   container types(List,tuple,set,dictonary)\n",
        "*   user defined types(class)\n",
        "\n",
        "\n",
        "\n",
        "\n"
      ],
      "metadata": {
        "id": "E163-brPJojT"
      }
    },
    {
      "cell_type": "code",
      "source": [
        "#integer\n",
        "print(4)\n",
        "print(500000000000000000000000000000000000000000000000000000000000000000)\n",
        "print(1e308) # i.e 10^308 so this the max integer number which can be printed\n",
        "print(1e309) #10^309\n",
        "#float\n",
        "print(1.4)\n",
        "print(1.7e308) # max float number\n",
        "print(1.7e309)\n",
        "#boolean\n",
        "print(True,False)\n",
        "#complex\n",
        "print(4+3j)\n",
        "#string\n",
        "print('hello',\"hello\",\"\"\"hello how are u\"\"\",sep=\"-\")\n"
      ],
      "metadata": {
        "colab": {
          "base_uri": "https://localhost:8080/"
        },
        "id": "IMIGmy1wLZ5M",
        "outputId": "fadbc3a2-2947-4dbb-fb6f-3ae9c62b57e5"
      },
      "execution_count": 16,
      "outputs": [
        {
          "output_type": "stream",
          "name": "stdout",
          "text": [
            "4\n",
            "500000000000000000000000000000000000000000000000000000000000000000\n",
            "1e+308\n",
            "inf\n",
            "1.4\n",
            "1.7e+308\n",
            "inf\n",
            "True False\n",
            "(4+3j)\n",
            "hello-hello-hello how are u\n"
          ]
        }
      ]
    },
    {
      "cell_type": "code",
      "source": [
        "#list\n",
        "print([1,2,3,5,\"hello\",1.4,True,1])\n",
        "#Tuple\n",
        "print((1,2,3,5,\"hello\",1.4,True,1))\n",
        "#set\n",
        "print({6,2,3,5,\"hello\",1.4,True,2})\n",
        "#dictionary\n",
        "print({1:\"hello\",2:True,3:234,4:1.7})"
      ],
      "metadata": {
        "colab": {
          "base_uri": "https://localhost:8080/"
        },
        "id": "30aaPhXwM3Lu",
        "outputId": "4c28f26a-7d45-4d25-cd54-66e6f43524ae"
      },
      "execution_count": 26,
      "outputs": [
        {
          "output_type": "stream",
          "name": "stdout",
          "text": [
            "[1, 2, 3, 5, 'hello', 1.4, True, 1]\n",
            "(1, 2, 3, 5, 'hello', 1.4, True, 1)\n",
            "{1.4, 2, 3, True, 5, 6, 'hello'}\n",
            "{1: 'hello', 2: True, 3: 234, 4: 1.7}\n"
          ]
        }
      ]
    },
    {
      "cell_type": "markdown",
      "source": [
        "# 3.Variables\n",
        "* Are containers for future use.\n",
        " Ex: To add any two numbers we would be using two differnt variables to hold the value given by user in it.those numbers can be anything\n",
        "\n",
        "\n",
        "*   Unlike in C language we dont do any declaration of the variable in python. This is called as dynamic typing i.e no variable declaration\n",
        "Ex: Name = \"Gurucharan\"\n",
        "*   Unlike in C language, python can support change of datatype assignments to variable\n",
        "Ex: name=\"gurucharan\"\n",
        "print(name)\n",
        "name=4\n",
        "print(name)\n",
        "name=1.4\n",
        "print(name)\n",
        "\n",
        "\n",
        "\n",
        "\n",
        "\n",
        "\n"
      ],
      "metadata": {
        "id": "djvqZ28xQarZ"
      }
    },
    {
      "cell_type": "code",
      "source": [
        "name=4\n",
        "print(name)\n",
        "name=\"guru\"\n",
        "print(name)"
      ],
      "metadata": {
        "colab": {
          "base_uri": "https://localhost:8080/"
        },
        "id": "LA67HU06UbNH",
        "outputId": "4c518724-59a6-4671-9b95-c985b4d112be"
      },
      "execution_count": 27,
      "outputs": [
        {
          "output_type": "stream",
          "name": "stdout",
          "text": [
            "4\n",
            "guru\n"
          ]
        }
      ]
    },
    {
      "cell_type": "code",
      "source": [
        "#special syntax\n",
        "a=5;b=7;c=8\n",
        "print(a,b,c)\n",
        "a,b,c=5,7,8\n",
        "print(a,b,c)\n",
        "a=b=c=6\n",
        "print(a,b,c)"
      ],
      "metadata": {
        "colab": {
          "base_uri": "https://localhost:8080/"
        },
        "id": "mgGI9cOBUokQ",
        "outputId": "7ced4308-dc19-4bcd-f758-b514e8356445"
      },
      "execution_count": 30,
      "outputs": [
        {
          "output_type": "stream",
          "name": "stdout",
          "text": [
            "5 7 8\n",
            "5 7 8\n",
            "6 6 6\n"
          ]
        }
      ]
    },
    {
      "cell_type": "markdown",
      "source": [
        "\n",
        "\n",
        "# 4. Keywords & Identifiers\n",
        "\n",
        "\n",
        " Python is casesentive language like any other programming language. Keyword is a fixed word and cant be used as a variable. The keywords has a special meaning in the *language*\n",
        "## Identifiers\n",
        "are the names of variables, class, functions and so on,  which have some specials rules to be followed before giving the name\n",
        "\n",
        "*   Should start with letter or _\n",
        "*   after letter or _ can be used anything\n",
        "*   keywords cant be used as Identifiers\n",
        "\n",
        "\n",
        "\n"
      ],
      "metadata": {
        "id": "Nn9qIHglVcG9"
      }
    },
    {
      "cell_type": "code",
      "source": [
        "#python has 33 keywords\n",
        "import keyword\n",
        "print(keyword.kwlist)"
      ],
      "metadata": {
        "colab": {
          "base_uri": "https://localhost:8080/"
        },
        "id": "hiI3bs-PhMt4",
        "outputId": "6731d99b-b3c4-45a7-869a-0d3f41cc9739"
      },
      "execution_count": 31,
      "outputs": [
        {
          "output_type": "stream",
          "name": "stdout",
          "text": [
            "['False', 'None', 'True', 'and', 'as', 'assert', 'async', 'await', 'break', 'class', 'continue', 'def', 'del', 'elif', 'else', 'except', 'finally', 'for', 'from', 'global', 'if', 'import', 'in', 'is', 'lambda', 'nonlocal', 'not', 'or', 'pass', 'raise', 'return', 'try', 'while', 'with', 'yield']\n"
          ]
        }
      ]
    },
    {
      "cell_type": "markdown",
      "source": [
        "# 5. Taking input from the user\n",
        "input() is used for taking the input from the user.\n",
        "Note: the read input will be always read as a string rather than any other datatype. So we need to convert(type conversion) to proper datatype after reading the i/p. Type conversion is not permanent conversion"
      ],
      "metadata": {
        "id": "2GqC4netnXeb"
      }
    },
    {
      "cell_type": "code",
      "source": [
        "#Writing a program to read two numbers and add the numers\n",
        "first_num = input(\"Enter 1st number\")\n",
        "second_num = input(\"Enter 2nd number\")\n",
        "print(\"Total of 2 numbers:\",first_num + second_num)\n",
        "print(type(first_num),type(second_num))"
      ],
      "metadata": {
        "colab": {
          "base_uri": "https://localhost:8080/"
        },
        "id": "Pr9ujxYOnsPG",
        "outputId": "4425d2da-308a-4e66-d18b-ef4c30da955f"
      },
      "execution_count": 34,
      "outputs": [
        {
          "output_type": "stream",
          "name": "stdout",
          "text": [
            "Enter 1st number32\n",
            "Enter 2nd number12\n",
            "Total of 2 numbers: 3212\n",
            "<class 'str'> <class 'str'>\n"
          ]
        }
      ]
    },
    {
      "cell_type": "code",
      "source": [
        "#Writing a program to read two numbers and add the numers\n",
        "first_num = int(input(\"Enter 1st number\"))\n",
        "second_num = int(input(\"Enter 2nd number\"))\n",
        "print(\"Total of 2 numbers:\",first_num + second_num)\n",
        "print(type(first_num),type(second_num))"
      ],
      "metadata": {
        "colab": {
          "base_uri": "https://localhost:8080/"
        },
        "id": "21WueUOLqjgl",
        "outputId": "c9f54d71-998d-4ce3-fa18-3616e4e0c6f0"
      },
      "execution_count": 35,
      "outputs": [
        {
          "output_type": "stream",
          "name": "stdout",
          "text": [
            "Enter 1st number43\n",
            "Enter 2nd number23\n",
            "Total of 2 numbers: 66\n",
            "<class 'int'> <class 'int'>\n"
          ]
        }
      ]
    },
    {
      "cell_type": "code",
      "source": [
        "first_num = input(\"Enter 1st number\")\n",
        "second_num = input(\"Enter 2nd number\")\n",
        "print(\"Total of 2 numbers:\",int(first_num) + int(second_num))\n",
        "print(type(first_num),type(second_num))"
      ],
      "metadata": {
        "colab": {
          "base_uri": "https://localhost:8080/"
        },
        "id": "FrJsHKVGq8Ed",
        "outputId": "b07aeee9-48d8-4972-e5ef-f575d66f48dd"
      },
      "execution_count": 37,
      "outputs": [
        {
          "output_type": "stream",
          "name": "stdout",
          "text": [
            "Enter 1st number32\n",
            "Enter 2nd number12\n",
            "Total of 2 numbers: 44\n",
            "<class 'str'> <class 'str'>\n"
          ]
        }
      ]
    }
  ]
}