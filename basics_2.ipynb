{
  "nbformat": 4,
  "nbformat_minor": 0,
  "metadata": {
    "colab": {
      "provenance": [],
      "authorship_tag": "ABX9TyNYlZlTyt57BHRQOwoKysAA",
      "include_colab_link": true
    },
    "kernelspec": {
      "name": "python3",
      "display_name": "Python 3"
    },
    "language_info": {
      "name": "python"
    }
  },
  "cells": [
    {
      "cell_type": "markdown",
      "metadata": {
        "id": "view-in-github",
        "colab_type": "text"
      },
      "source": [
        "<a href=\"https://colab.research.google.com/github/nanidgreat/pythonlearnings/blob/main/basics_2.ipynb\" target=\"_parent\"><img src=\"https://colab.research.google.com/assets/colab-badge.svg\" alt=\"Open In Colab\"/></a>"
      ]
    },
    {
      "cell_type": "markdown",
      "source": [
        "#1.If-Else conditions\n",
        "  Being used where some based on some condition a portion of code is executed with right or wrong choice.\n",
        "\n"
      ],
      "metadata": {
        "id": "HoTZ8aEmckTh"
      }
    },
    {
      "cell_type": "code",
      "source": [
        "#write a program to accept the website address and its password and based on it provide the webpage either profile or error page\n",
        "web_addr = input(\"Enter web address\")\n",
        "pwd = input(\"Enter password\")\n",
        "if web_addr == \"guru.com\" and pwd == \"charan\":\n",
        "  print(\"Welcome to your profile\")\n",
        "else:\n",
        "  print(\"Page error as you have entered wrong crentials\")"
      ],
      "metadata": {
        "colab": {
          "base_uri": "https://localhost:8080/"
        },
        "id": "hiEWOshHcjan",
        "outputId": "db42a62a-3e3b-4dfc-ea15-c1b40d26b416"
      },
      "execution_count": null,
      "outputs": [
        {
          "output_type": "stream",
          "name": "stdout",
          "text": [
            "Enter web addressguru\n",
            "Enter passwordcharan\n",
            "Page error as you have entered wrong crentials\n"
          ]
        }
      ]
    },
    {
      "cell_type": "code",
      "source": [
        "web_addr = input(\"Enter web address\")\n",
        "pwd = input(\"Enter password\")\n",
        "\n",
        "if web_addr == \"guru.com\" and pwd == \"charan\":\n",
        "  print(\"welcome to your profile\")\n",
        "elif web_addr == \"guru.com\" and pwd != \"charan\":\n",
        "    pwd = input(\"re enter the pwd again\")\n",
        "    if pwd == \"charan\":\n",
        "      print(\"welcome to your profile\")\n",
        "    else:\n",
        "      print(\"Page error as you have entered wrong crentials\")\n",
        "else:\n",
        "  print(\"Page error as you have entered wrong crentials\")"
      ],
      "metadata": {
        "colab": {
          "base_uri": "https://localhost:8080/"
        },
        "id": "RYEwGNuIeeOr",
        "outputId": "5020b444-65c6-4d42-dcd1-7af8d1b2ffaf"
      },
      "execution_count": null,
      "outputs": [
        {
          "output_type": "stream",
          "name": "stdout",
          "text": [
            "Enter web addressguru.com\n",
            "Enter passwordash\n",
            "re enter the pwd againcharan\n",
            "welcome to your profile\n"
          ]
        }
      ]
    },
    {
      "cell_type": "markdown",
      "source": [
        "# 2. Loops\n",
        "  Used where some code need to repeatedly used\n",
        "  1. while\n",
        "  2. for"
      ],
      "metadata": {
        "id": "gE77uixcms3I"
      }
    },
    {
      "cell_type": "code",
      "source": [
        "#while\n",
        "num = int(input(\"Enter the number\"))\n",
        "i=1\n",
        "while i < 11:\n",
        "  print(f\"{num} *{i} = {num * i}\")\n",
        "  i+=1\n",
        "\n"
      ],
      "metadata": {
        "colab": {
          "base_uri": "https://localhost:8080/"
        },
        "id": "09fglMFvm52L",
        "outputId": "a9b68bfb-7f55-4110-cefd-a54714fdda5d"
      },
      "execution_count": null,
      "outputs": [
        {
          "output_type": "stream",
          "name": "stdout",
          "text": [
            "Enter the number12\n",
            "12 *1 = 12\n",
            "12 *2 = 24\n",
            "12 *3 = 36\n",
            "12 *4 = 48\n",
            "12 *5 = 60\n",
            "12 *6 = 72\n",
            "12 *7 = 84\n",
            "12 *8 = 96\n",
            "12 *9 = 108\n",
            "12 *10 = 120\n"
          ]
        }
      ]
    },
    {
      "cell_type": "markdown",
      "source": [
        "#for loops\n",
        "  This will iterate either on range or sequence"
      ],
      "metadata": {
        "id": "pjikLY4N-J4P"
      }
    },
    {
      "cell_type": "code",
      "source": [
        "range(1,10)\n",
        "list(range(1,10))\n"
      ],
      "metadata": {
        "colab": {
          "base_uri": "https://localhost:8080/"
        },
        "id": "_-I-DFXV-aUS",
        "outputId": "be3bf8a3-6d8b-431d-e7f4-fa920a9c989a"
      },
      "execution_count": null,
      "outputs": [
        {
          "output_type": "execute_result",
          "data": {
            "text/plain": [
              "[1, 2, 3, 4, 5, 6, 7, 8, 9]"
            ]
          },
          "metadata": {},
          "execution_count": 7
        }
      ]
    },
    {
      "cell_type": "code",
      "source": [
        "list(range(1,10,2))"
      ],
      "metadata": {
        "colab": {
          "base_uri": "https://localhost:8080/"
        },
        "id": "lYln3L1W-zAV",
        "outputId": "2f35a94b-04a5-40e4-8f4d-24e4994280ac"
      },
      "execution_count": null,
      "outputs": [
        {
          "output_type": "execute_result",
          "data": {
            "text/plain": [
              "[1, 3, 5, 7, 9]"
            ]
          },
          "metadata": {},
          "execution_count": 8
        }
      ]
    },
    {
      "cell_type": "code",
      "source": [
        "list(range(10,1,-1))"
      ],
      "metadata": {
        "colab": {
          "base_uri": "https://localhost:8080/"
        },
        "id": "vHbvSdmk-32Y",
        "outputId": "43c25245-59ac-4dc8-92d6-ffdb71142de3"
      },
      "execution_count": null,
      "outputs": [
        {
          "output_type": "execute_result",
          "data": {
            "text/plain": [
              "[10, 9, 8, 7, 6, 5, 4, 3, 2]"
            ]
          },
          "metadata": {},
          "execution_count": 13
        }
      ]
    },
    {
      "cell_type": "code",
      "source": [
        "for i in range(1,10):\n",
        "  print(i)"
      ],
      "metadata": {
        "colab": {
          "base_uri": "https://localhost:8080/"
        },
        "id": "F9xLlNI7_qSt",
        "outputId": "e59d9625-e972-434a-c973-f874d0189d3d"
      },
      "execution_count": null,
      "outputs": [
        {
          "output_type": "stream",
          "name": "stdout",
          "text": [
            "1\n",
            "2\n",
            "3\n",
            "4\n",
            "5\n",
            "6\n",
            "7\n",
            "8\n",
            "9\n"
          ]
        }
      ]
    },
    {
      "cell_type": "code",
      "source": [
        "for i in \"hyderabad\":\n",
        "  print(i)\n",
        "for i in [\"hyd\",\"kol\",\"del\"]:\n",
        "          print(i)"
      ],
      "metadata": {
        "colab": {
          "base_uri": "https://localhost:8080/"
        },
        "id": "pKssCd_D_83W",
        "outputId": "7c75e6e5-81a2-4cd0-ddcd-e860004e6ea4"
      },
      "execution_count": null,
      "outputs": [
        {
          "output_type": "stream",
          "name": "stdout",
          "text": [
            "h\n",
            "y\n",
            "d\n",
            "e\n",
            "r\n",
            "a\n",
            "b\n",
            "a\n",
            "d\n",
            "hyd\n",
            "kol\n",
            "del\n"
          ]
        }
      ]
    },
    {
      "cell_type": "code",
      "source": [
        "#nested loops\n",
        "rows= int(input(\"enter no of rows\"))\n",
        "for i in range(1,rows+1):\n",
        "  for j in range(0,i):\n",
        "    print(\"*\",end=\"\")\n",
        "  print(\"\\n\",end=\"\")"
      ],
      "metadata": {
        "colab": {
          "base_uri": "https://localhost:8080/"
        },
        "id": "G_KiwTXvGqte",
        "outputId": "17daacb3-37f5-43e0-c60f-a92d0559d42b"
      },
      "execution_count": null,
      "outputs": [
        {
          "output_type": "stream",
          "name": "stdout",
          "text": [
            "enter no of rows5\n",
            "*\n",
            "**\n",
            "***\n",
            "****\n",
            "*****\n"
          ]
        }
      ]
    },
    {
      "cell_type": "code",
      "source": [
        "import math\n",
        "math.factorial(4)"
      ],
      "metadata": {
        "colab": {
          "base_uri": "https://localhost:8080/"
        },
        "id": "vJKX_MRAN-xm",
        "outputId": "2a160e3e-dc89-418c-e2e7-646de122fb7b"
      },
      "execution_count": null,
      "outputs": [
        {
          "output_type": "execute_result",
          "data": {
            "text/plain": [
              "24"
            ]
          },
          "metadata": {},
          "execution_count": 12
        }
      ]
    },
    {
      "cell_type": "markdown",
      "source": [
        "# Strings\n",
        " features like slicing and substring is important"
      ],
      "metadata": {
        "id": "xZm1vbMS1bC5"
      }
    },
    {
      "cell_type": "code",
      "source": [
        "print('It\\'s raining outside')\n",
        "s = \"hello world\"\n",
        "p='how ru'\n",
        "u='''how do u do'''\n",
        "print(s,p,u,sep='-')\n",
        "#indexing\n",
        "print(s[3],s[-4])\n",
        "#slicing\n",
        "print(s[0:5],s[:5],s[0:],s[:],s[0:5:2],s[::-1],sep=\"-\")\n"
      ],
      "metadata": {
        "colab": {
          "base_uri": "https://localhost:8080/"
        },
        "id": "5OFZywSy1lal",
        "outputId": "e6c145e8-a338-45a9-ce91-8947c9f5a469"
      },
      "execution_count": null,
      "outputs": [
        {
          "output_type": "stream",
          "name": "stdout",
          "text": [
            "It's raining outside\n",
            "hello world-how ru-how do u do\n",
            "l o\n",
            "hello-hello-hello world-hello world-hlo-dlrow olleh\n"
          ]
        }
      ]
    },
    {
      "cell_type": "markdown",
      "source": [
        "## How to Edit or delete a character or multiple characters from a string?\n",
        "  Strings are immutable datatype i.e can't change the value\n",
        "  But they can be reassigned."
      ],
      "metadata": {
        "id": "VNYr1Zh852ip"
      }
    },
    {
      "cell_type": "code",
      "source": [
        "c=\"hello\"\n",
        "c[4]=\"x\" #will through an error becz strings are immutable i.e cant change once its been assigned to a variable\n",
        "print(c)\n",
        "del c[0] #can't delete a single character or multiple characters from a string\n",
        "print(c)\n"
      ],
      "metadata": {
        "colab": {
          "base_uri": "https://localhost:8080/",
          "height": 211
        },
        "id": "4LLb5O_P6Hca",
        "outputId": "09431f54-9386-4364-9694-01a49a47830f"
      },
      "execution_count": null,
      "outputs": [
        {
          "output_type": "stream",
          "name": "stdout",
          "text": [
            "hello\n"
          ]
        },
        {
          "output_type": "error",
          "ename": "TypeError",
          "evalue": "'str' object doesn't support item deletion",
          "traceback": [
            "\u001b[0;31m---------------------------------------------------------------------------\u001b[0m",
            "\u001b[0;31mTypeError\u001b[0m                                 Traceback (most recent call last)",
            "\u001b[0;32m/tmp/ipython-input-30-3964526989.py\u001b[0m in \u001b[0;36m<cell line: 0>\u001b[0;34m()\u001b[0m\n\u001b[1;32m      2\u001b[0m \u001b[0;31m#c[4]=\"x\" #will through an error becz strings are immutable i.e cant change once its been assigned to a variable\u001b[0m\u001b[0;34m\u001b[0m\u001b[0;34m\u001b[0m\u001b[0m\n\u001b[1;32m      3\u001b[0m \u001b[0mprint\u001b[0m\u001b[0;34m(\u001b[0m\u001b[0mc\u001b[0m\u001b[0;34m)\u001b[0m\u001b[0;34m\u001b[0m\u001b[0;34m\u001b[0m\u001b[0m\n\u001b[0;32m----> 4\u001b[0;31m \u001b[0;32mdel\u001b[0m \u001b[0mc\u001b[0m\u001b[0;34m[\u001b[0m\u001b[0;36m0\u001b[0m\u001b[0;34m]\u001b[0m \u001b[0;31m#can't delete a single character or multiple characters from a string\u001b[0m\u001b[0;34m\u001b[0m\u001b[0;34m\u001b[0m\u001b[0m\n\u001b[0m\u001b[1;32m      5\u001b[0m \u001b[0mprint\u001b[0m\u001b[0;34m(\u001b[0m\u001b[0mc\u001b[0m\u001b[0;34m)\u001b[0m\u001b[0;34m\u001b[0m\u001b[0;34m\u001b[0m\u001b[0m\n",
            "\u001b[0;31mTypeError\u001b[0m: 'str' object doesn't support item deletion"
          ]
        }
      ]
    },
    {
      "cell_type": "markdown",
      "source": [
        "##Operators used on Strings\n",
        "\n",
        "\n",
        "*   Arthematic\n",
        "*   Relational\n",
        "*   Logical\n",
        "*   Loops\n",
        "*   Membership operations\n",
        "\n",
        "\n",
        "\n",
        "\n",
        "\n"
      ],
      "metadata": {
        "id": "pD0svIGvXKsL"
      }
    },
    {
      "cell_type": "code",
      "source": [
        "#Arthematic\n",
        "c=\"hello\"\n",
        "b=\"how are you\"\n",
        "print(c+b)\n",
        "print(c*3)\n",
        "print(c-b)"
      ],
      "metadata": {
        "colab": {
          "base_uri": "https://localhost:8080/",
          "height": 211
        },
        "id": "IgF12xLXXhEx",
        "outputId": "b539d150-c21c-43e9-88d2-1af4e0883509"
      },
      "execution_count": 33,
      "outputs": [
        {
          "output_type": "stream",
          "name": "stdout",
          "text": [
            "hellohow are you\n",
            "hellohellohello\n"
          ]
        },
        {
          "output_type": "error",
          "ename": "TypeError",
          "evalue": "unsupported operand type(s) for -: 'str' and 'str'",
          "traceback": [
            "\u001b[0;31m---------------------------------------------------------------------------\u001b[0m",
            "\u001b[0;31mTypeError\u001b[0m                                 Traceback (most recent call last)",
            "\u001b[0;32m/tmp/ipython-input-33-2879642492.py\u001b[0m in \u001b[0;36m<cell line: 0>\u001b[0;34m()\u001b[0m\n\u001b[1;32m      3\u001b[0m \u001b[0mprint\u001b[0m\u001b[0;34m(\u001b[0m\u001b[0mc\u001b[0m\u001b[0;34m+\u001b[0m\u001b[0mb\u001b[0m\u001b[0;34m)\u001b[0m\u001b[0;34m\u001b[0m\u001b[0;34m\u001b[0m\u001b[0m\n\u001b[1;32m      4\u001b[0m \u001b[0mprint\u001b[0m\u001b[0;34m(\u001b[0m\u001b[0mc\u001b[0m\u001b[0;34m*\u001b[0m\u001b[0;36m3\u001b[0m\u001b[0;34m)\u001b[0m\u001b[0;34m\u001b[0m\u001b[0;34m\u001b[0m\u001b[0m\n\u001b[0;32m----> 5\u001b[0;31m \u001b[0mprint\u001b[0m\u001b[0;34m(\u001b[0m\u001b[0mc\u001b[0m\u001b[0;34m-\u001b[0m\u001b[0mb\u001b[0m\u001b[0;34m)\u001b[0m\u001b[0;34m\u001b[0m\u001b[0;34m\u001b[0m\u001b[0m\n\u001b[0m",
            "\u001b[0;31mTypeError\u001b[0m: unsupported operand type(s) for -: 'str' and 'str'"
          ]
        }
      ]
    },
    {
      "cell_type": "code",
      "source": [
        "#Relational\n",
        "print(c>b,c<b,c==b,c!=b,sep=\"-\")\n"
      ],
      "metadata": {
        "colab": {
          "base_uri": "https://localhost:8080/"
        },
        "id": "EmAlD0arYO40",
        "outputId": "99cacbb8-95ee-4af6-da99-a2fa33db9eb6"
      },
      "execution_count": 36,
      "outputs": [
        {
          "output_type": "stream",
          "name": "stdout",
          "text": [
            "False-True-False-True\n"
          ]
        }
      ]
    },
    {
      "cell_type": "code",
      "source": [
        "#Logical\n",
        "print(c and b,c or b,not \"\",sep=\"-\")"
      ],
      "metadata": {
        "colab": {
          "base_uri": "https://localhost:8080/"
        },
        "id": "3tT-McnIY9l1",
        "outputId": "ecccbd1d-e81a-46ec-9d51-df15896c7b16"
      },
      "execution_count": 39,
      "outputs": [
        {
          "output_type": "stream",
          "name": "stdout",
          "text": [
            "how are you-hello-True\n"
          ]
        }
      ]
    },
    {
      "cell_type": "code",
      "source": [
        "#loops\n",
        "for i in c:\n",
        "  print(i)\n",
        "for i in c[::-1]:\n",
        "  print(i)"
      ],
      "metadata": {
        "colab": {
          "base_uri": "https://localhost:8080/"
        },
        "id": "tnB4HSjXZquK",
        "outputId": "c3899cfd-a2ce-43b1-c11c-d0fa1d92ad5e"
      },
      "execution_count": 42,
      "outputs": [
        {
          "output_type": "stream",
          "name": "stdout",
          "text": [
            "h\n",
            "e\n",
            "l\n",
            "l\n",
            "o\n",
            "o\n",
            "l\n",
            "l\n",
            "e\n",
            "h\n"
          ]
        }
      ]
    },
    {
      "cell_type": "code",
      "source": [
        "#membership operator\n",
        "print(\"lo\" in c)"
      ],
      "metadata": {
        "colab": {
          "base_uri": "https://localhost:8080/"
        },
        "id": "YDg_g-ZmZ7SI",
        "outputId": "fbd5126a-6cd8-4ce2-a22d-9a7af3fdb10c"
      },
      "execution_count": 45,
      "outputs": [
        {
          "output_type": "stream",
          "name": "stdout",
          "text": [
            "True\n"
          ]
        }
      ]
    },
    {
      "cell_type": "markdown",
      "source": [
        "## Common Functions\n",
        "*   len\n",
        "*   min\n",
        "*   max\n",
        "*   sorted"
      ],
      "metadata": {
        "id": "ms6eFKVwfRUd"
      }
    },
    {
      "cell_type": "code",
      "source": [
        "c=\"kolkata\"\n",
        "print(len(c),min(c),max(c))\n",
        "print(sorted(c),sorted(c,reverse=True))"
      ],
      "metadata": {
        "colab": {
          "base_uri": "https://localhost:8080/"
        },
        "id": "N1k0tBuwfqvr",
        "outputId": "17b9fc3e-4bba-4310-edad-f03cba8e9230"
      },
      "execution_count": 1,
      "outputs": [
        {
          "output_type": "stream",
          "name": "stdout",
          "text": [
            "7 a t\n",
            "['a', 'a', 'k', 'k', 'l', 'o', 't'] ['t', 'o', 'l', 'k', 'k', 'a', 'a']\n"
          ]
        }
      ]
    },
    {
      "cell_type": "markdown",
      "source": [
        "## Capitalize/Title/Upper/Lower/Swapcase"
      ],
      "metadata": {
        "id": "IxHn7ygLgJMU"
      }
    },
    {
      "cell_type": "code",
      "source": [
        "print(c.capitalize())\n",
        "c=\"HoW are you\"\n",
        "print(c.title())\n",
        "print(c.upper())\n",
        "print(c.lower())\n",
        "print(c.swapcase())\n",
        "print(c.casefold(),c,sep=\"-\")\n"
      ],
      "metadata": {
        "colab": {
          "base_uri": "https://localhost:8080/"
        },
        "id": "wqpPg-0XgWJw",
        "outputId": "6e96204d-8063-4559-bbef-c4d84f67ddb1"
      },
      "execution_count": 11,
      "outputs": [
        {
          "output_type": "stream",
          "name": "stdout",
          "text": [
            "How are you\n",
            "How Are You\n",
            "HOW ARE YOU\n",
            "how are you\n",
            "hOw ARE YOU\n",
            "how are you-HoW are you\n"
          ]
        }
      ]
    },
    {
      "cell_type": "code",
      "source": [
        "#count\n",
        "print(c.count(\"you\"))\n",
        "print(c.count(\"o\"))\n",
        "print(c.find(\"you\"))"
      ],
      "metadata": {
        "colab": {
          "base_uri": "https://localhost:8080/"
        },
        "id": "ct3OmiVeiO9h",
        "outputId": "8f0abd95-8aa9-4a08-b819-7d642e4a0bfc"
      },
      "execution_count": 21,
      "outputs": [
        {
          "output_type": "stream",
          "name": "stdout",
          "text": [
            "1\n",
            "2\n",
            "8\n"
          ]
        }
      ]
    },
    {
      "cell_type": "code",
      "source": [
        "#format\n",
        "c=\"how are you {} where are you lving in {}\".format(\"guru\",\"India\")\n",
        "print(c)\n",
        "c=\"how are you {1} where are you lving in {0}\".format(\"guru\",\"India\")\n",
        "print(c)\n",
        "c=\"I am {name},i am {age} and weighing {weight}\".format(name=\"guru\",age=\"40\",weight=90)\n",
        "print(c)\n",
        "c=\"I am {name} and weighing {weight}\".format(name=\"guru\",age=\"40\",weight=90)\n",
        "print(c)"
      ],
      "metadata": {
        "colab": {
          "base_uri": "https://localhost:8080/"
        },
        "id": "kfTRLsJpjdA1",
        "outputId": "48161673-efe8-4d4d-8d59-15d6d06a131c"
      },
      "execution_count": 25,
      "outputs": [
        {
          "output_type": "stream",
          "name": "stdout",
          "text": [
            "how are you guru where are you lving in India\n",
            "how are you India where are you lving in guru\n",
            "I am guru,i am 40 and weighing 90\n",
            "I am guru and weighing 90\n"
          ]
        }
      ]
    },
    {
      "cell_type": "code",
      "source": [
        "#split\n",
        "print(\"who is the PM of India\".split())\n",
        "print(\"who is the PM of India\".split(\"is\"))"
      ],
      "metadata": {
        "colab": {
          "base_uri": "https://localhost:8080/"
        },
        "id": "IwmR-qunlggV",
        "outputId": "f92cdbe7-bb26-498a-8a1c-b4a9ab9e5568"
      },
      "execution_count": 32,
      "outputs": [
        {
          "output_type": "stream",
          "name": "stdout",
          "text": [
            "['who', 'is', 'the', 'PM', 'of', 'India']\n",
            "['who ', ' the PM of India']\n"
          ]
        }
      ]
    },
    {
      "cell_type": "code",
      "source": [
        "#join\n",
        "print(\"\".join(['who', 'is', 'the', 'PM', 'of', 'India']))\n",
        "print(\"--\".join(['who', 'is', 'the', 'PM', 'of', 'India']))\n"
      ],
      "metadata": {
        "colab": {
          "base_uri": "https://localhost:8080/"
        },
        "id": "2tsZlGKmmJut",
        "outputId": "5f5324f9-0fbc-4235-fb73-9dd2ff3feff6"
      },
      "execution_count": 37,
      "outputs": [
        {
          "output_type": "stream",
          "name": "stdout",
          "text": [
            "whoisthePMofIndia\n",
            "who--is--the--PM--of--India\n"
          ]
        }
      ]
    },
    {
      "cell_type": "code",
      "source": [
        "#strip\n",
        "c=\"      hello     \"\n",
        "print(c.strip())"
      ],
      "metadata": {
        "colab": {
          "base_uri": "https://localhost:8080/"
        },
        "id": "SMe-JlnRms5q",
        "outputId": "389f86ff-5caf-4b38-f8de-30da23736963"
      },
      "execution_count": 39,
      "outputs": [
        {
          "output_type": "stream",
          "name": "stdout",
          "text": [
            "hello\n"
          ]
        }
      ]
    }
  ]
}