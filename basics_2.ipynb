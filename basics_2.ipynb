{
  "nbformat": 4,
  "nbformat_minor": 0,
  "metadata": {
    "colab": {
      "provenance": [],
      "authorship_tag": "ABX9TyObdLlSM4knjXRDyH9qHMML",
      "include_colab_link": true
    },
    "kernelspec": {
      "name": "python3",
      "display_name": "Python 3"
    },
    "language_info": {
      "name": "python"
    }
  },
  "cells": [
    {
      "cell_type": "markdown",
      "metadata": {
        "id": "view-in-github",
        "colab_type": "text"
      },
      "source": [
        "<a href=\"https://colab.research.google.com/github/nanidgreat/pythonlearnings/blob/main/basics_2.ipynb\" target=\"_parent\"><img src=\"https://colab.research.google.com/assets/colab-badge.svg\" alt=\"Open In Colab\"/></a>"
      ]
    },
    {
      "cell_type": "markdown",
      "source": [
        "#1.If-Else conditions\n",
        "  Being used where some based on some condition a portion of code is executed with right or wrong choice.\n",
        "\n"
      ],
      "metadata": {
        "id": "HoTZ8aEmckTh"
      }
    },
    {
      "cell_type": "code",
      "source": [
        "#write a program to accept the website address and its password and based on it provide the webpage either profile or error page\n",
        "web_addr = input(\"Enter web address\")\n",
        "pwd = input(\"Enter password\")\n",
        "if web_addr == \"guru.com\" and pwd == \"charan\":\n",
        "  print(\"Welcome to your profile\")\n",
        "else:\n",
        "  print(\"Page error as you have entered wrong crentials\")"
      ],
      "metadata": {
        "colab": {
          "base_uri": "https://localhost:8080/"
        },
        "id": "hiEWOshHcjan",
        "outputId": "db42a62a-3e3b-4dfc-ea15-c1b40d26b416"
      },
      "execution_count": null,
      "outputs": [
        {
          "output_type": "stream",
          "name": "stdout",
          "text": [
            "Enter web addressguru\n",
            "Enter passwordcharan\n",
            "Page error as you have entered wrong crentials\n"
          ]
        }
      ]
    },
    {
      "cell_type": "code",
      "source": [
        "web_addr = input(\"Enter web address\")\n",
        "pwd = input(\"Enter password\")\n",
        "\n",
        "if web_addr == \"guru.com\" and pwd == \"charan\":\n",
        "  print(\"welcome to your profile\")\n",
        "elif web_addr == \"guru.com\" and pwd != \"charan\":\n",
        "    pwd = input(\"re enter the pwd again\")\n",
        "    if pwd == \"charan\":\n",
        "      print(\"welcome to your profile\")\n",
        "    else:\n",
        "      print(\"Page error as you have entered wrong crentials\")\n",
        "else:\n",
        "  print(\"Page error as you have entered wrong crentials\")"
      ],
      "metadata": {
        "colab": {
          "base_uri": "https://localhost:8080/"
        },
        "id": "RYEwGNuIeeOr",
        "outputId": "5020b444-65c6-4d42-dcd1-7af8d1b2ffaf"
      },
      "execution_count": null,
      "outputs": [
        {
          "output_type": "stream",
          "name": "stdout",
          "text": [
            "Enter web addressguru.com\n",
            "Enter passwordash\n",
            "re enter the pwd againcharan\n",
            "welcome to your profile\n"
          ]
        }
      ]
    },
    {
      "cell_type": "markdown",
      "source": [
        "# 2. Loops\n",
        "  Used where some code need to repeatedly used\n",
        "  1. while\n",
        "  2. for"
      ],
      "metadata": {
        "id": "gE77uixcms3I"
      }
    },
    {
      "cell_type": "code",
      "source": [
        "#while\n",
        "num = int(input(\"Enter the number\"))\n",
        "i=1\n",
        "while i < 11:\n",
        "  print(f\"{num} *{i} = {num * i}\")\n",
        "  i+=1\n",
        "\n"
      ],
      "metadata": {
        "colab": {
          "base_uri": "https://localhost:8080/"
        },
        "id": "09fglMFvm52L",
        "outputId": "a9b68bfb-7f55-4110-cefd-a54714fdda5d"
      },
      "execution_count": null,
      "outputs": [
        {
          "output_type": "stream",
          "name": "stdout",
          "text": [
            "Enter the number12\n",
            "12 *1 = 12\n",
            "12 *2 = 24\n",
            "12 *3 = 36\n",
            "12 *4 = 48\n",
            "12 *5 = 60\n",
            "12 *6 = 72\n",
            "12 *7 = 84\n",
            "12 *8 = 96\n",
            "12 *9 = 108\n",
            "12 *10 = 120\n"
          ]
        }
      ]
    },
    {
      "cell_type": "markdown",
      "source": [
        "#for loops\n",
        "  This will iterate either on range or sequence"
      ],
      "metadata": {
        "id": "pjikLY4N-J4P"
      }
    },
    {
      "cell_type": "code",
      "source": [
        "range(1,10)\n",
        "list(range(1,10))\n"
      ],
      "metadata": {
        "colab": {
          "base_uri": "https://localhost:8080/"
        },
        "id": "_-I-DFXV-aUS",
        "outputId": "be3bf8a3-6d8b-431d-e7f4-fa920a9c989a"
      },
      "execution_count": null,
      "outputs": [
        {
          "output_type": "execute_result",
          "data": {
            "text/plain": [
              "[1, 2, 3, 4, 5, 6, 7, 8, 9]"
            ]
          },
          "metadata": {},
          "execution_count": 7
        }
      ]
    },
    {
      "cell_type": "code",
      "source": [
        "list(range(1,10,2))"
      ],
      "metadata": {
        "colab": {
          "base_uri": "https://localhost:8080/"
        },
        "id": "lYln3L1W-zAV",
        "outputId": "2f35a94b-04a5-40e4-8f4d-24e4994280ac"
      },
      "execution_count": null,
      "outputs": [
        {
          "output_type": "execute_result",
          "data": {
            "text/plain": [
              "[1, 3, 5, 7, 9]"
            ]
          },
          "metadata": {},
          "execution_count": 8
        }
      ]
    },
    {
      "cell_type": "code",
      "source": [
        "list(range(10,1,-1))"
      ],
      "metadata": {
        "colab": {
          "base_uri": "https://localhost:8080/"
        },
        "id": "vHbvSdmk-32Y",
        "outputId": "43c25245-59ac-4dc8-92d6-ffdb71142de3"
      },
      "execution_count": null,
      "outputs": [
        {
          "output_type": "execute_result",
          "data": {
            "text/plain": [
              "[10, 9, 8, 7, 6, 5, 4, 3, 2]"
            ]
          },
          "metadata": {},
          "execution_count": 13
        }
      ]
    },
    {
      "cell_type": "code",
      "source": [
        "for i in range(1,10):\n",
        "  print(i)"
      ],
      "metadata": {
        "colab": {
          "base_uri": "https://localhost:8080/"
        },
        "id": "F9xLlNI7_qSt",
        "outputId": "e59d9625-e972-434a-c973-f874d0189d3d"
      },
      "execution_count": null,
      "outputs": [
        {
          "output_type": "stream",
          "name": "stdout",
          "text": [
            "1\n",
            "2\n",
            "3\n",
            "4\n",
            "5\n",
            "6\n",
            "7\n",
            "8\n",
            "9\n"
          ]
        }
      ]
    },
    {
      "cell_type": "code",
      "source": [
        "for i in \"hyderabad\":\n",
        "  print(i)\n",
        "for i in [\"hyd\",\"kol\",\"del\"]:\n",
        "          print(i)"
      ],
      "metadata": {
        "colab": {
          "base_uri": "https://localhost:8080/"
        },
        "id": "pKssCd_D_83W",
        "outputId": "7c75e6e5-81a2-4cd0-ddcd-e860004e6ea4"
      },
      "execution_count": null,
      "outputs": [
        {
          "output_type": "stream",
          "name": "stdout",
          "text": [
            "h\n",
            "y\n",
            "d\n",
            "e\n",
            "r\n",
            "a\n",
            "b\n",
            "a\n",
            "d\n",
            "hyd\n",
            "kol\n",
            "del\n"
          ]
        }
      ]
    }
  ]
}