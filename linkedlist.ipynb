{
  "nbformat": 4,
  "nbformat_minor": 0,
  "metadata": {
    "colab": {
      "provenance": [],
      "authorship_tag": "ABX9TyPkprHd+mEt8zh79P/P3mFd",
      "include_colab_link": true
    },
    "kernelspec": {
      "name": "python3",
      "display_name": "Python 3"
    },
    "language_info": {
      "name": "python"
    }
  },
  "cells": [
    {
      "cell_type": "markdown",
      "metadata": {
        "id": "view-in-github",
        "colab_type": "text"
      },
      "source": [
        "<a href=\"https://colab.research.google.com/github/nanidgreat/pythonlearnings/blob/testing/linkedlist.ipynb\" target=\"_parent\"><img src=\"https://colab.research.google.com/assets/colab-badge.svg\" alt=\"Open In Colab\"/></a>"
      ]
    },
    {
      "cell_type": "code",
      "execution_count": null,
      "metadata": {
        "id": "Gmimf7nFsDjq"
      },
      "outputs": [],
      "source": []
    },
    {
      "cell_type": "markdown",
      "source": [
        "create a Linked list to insert,delete and search the elements by creating nodes"
      ],
      "metadata": {
        "id": "nnoq71dQsJKA"
      }
    },
    {
      "cell_type": "code",
      "source": [
        "#creating a Node where upon calling it will have a value and the next element address(None)\n",
        "class node:\n",
        "  def __init__(self,value):\n",
        "    self.data = value\n",
        "    self.next = None\n",
        ""
      ],
      "metadata": {
        "id": "6fDaABymsRPs"
      },
      "execution_count": 2,
      "outputs": []
    },
    {
      "cell_type": "code",
      "source": [
        "a = node(2) #creating a node\n",
        "b = node(3) #creating 2nd node\n",
        "c = node(4) #creating 3rd node\n",
        "print(a,b,c)\n",
        "print(a.data,b.data,c.data) #trying to print the value of a variable\n",
        "print(a.next,b.next,c.next) #trying to print the next element's address"
      ],
      "metadata": {
        "colab": {
          "base_uri": "https://localhost:8080/"
        },
        "id": "v7n8Og2nsh9y",
        "outputId": "2f5318ec-b873-4659-f59e-8704cabd731d"
      },
      "execution_count": 18,
      "outputs": [
        {
          "output_type": "stream",
          "name": "stdout",
          "text": [
            "<__main__.node object at 0x7d65acab1250> <__main__.node object at 0x7d65c5d9add0> <__main__.node object at 0x7d65acafa750>\n",
            "2 3 4\n",
            "None None None\n"
          ]
        }
      ]
    },
    {
      "cell_type": "markdown",
      "source": [
        "First findout the where the elements a,b and c are stored"
      ],
      "metadata": {
        "id": "QmxoSWSAtP50"
      }
    },
    {
      "cell_type": "code",
      "source": [
        "id(c) # this will give you the address where an element has been stored"
      ],
      "metadata": {
        "colab": {
          "base_uri": "https://localhost:8080/"
        },
        "id": "jIWVaZQnswaP",
        "outputId": "c5ca6d2f-6c74-46e8-9aee-f91d1e20c9ba"
      },
      "execution_count": 13,
      "outputs": [
        {
          "output_type": "execute_result",
          "data": {
            "text/plain": [
              "137875641901264"
            ]
          },
          "metadata": {},
          "execution_count": 13
        }
      ]
    },
    {
      "cell_type": "markdown",
      "source": [
        "Lets, try to attach the nodes one to another to form the Linked list.\n"
      ],
      "metadata": {
        "id": "6dQdvxmztopP"
      }
    },
    {
      "cell_type": "code",
      "source": [
        "a.next = b\n",
        "b.next = c\n",
        "print(a.next,b.next,c.next)"
      ],
      "metadata": {
        "colab": {
          "base_uri": "https://localhost:8080/"
        },
        "id": "0AGL_BhCt0Vo",
        "outputId": "a28ba1bd-b1d8-491b-e164-891ea278cb2f"
      },
      "execution_count": 19,
      "outputs": [
        {
          "output_type": "stream",
          "name": "stdout",
          "text": [
            "<__main__.node object at 0x7d65c5d9add0> <__main__.node object at 0x7d65acafa750> None\n"
          ]
        }
      ]
    },
    {
      "cell_type": "code",
      "source": [
        "class Node:\n",
        "  def __init__(self,value):\n",
        "    self.data = value\n",
        "    self.next = None\n",
        "\n",
        "class Linkedlist():\n",
        "  def __init__(self):\n",
        "    #creating empty list\n",
        "    self.head = None\n",
        "    self.n = 0 #counter for no of elements in the list\n",
        "  #function to find the length of the LL\n",
        "  def __len__(self):\n",
        "    return self.n\n",
        "  #function to insert an element at the beginining\n",
        "  def insert_head(self,value):\n",
        "    #create a new node\n",
        "    new_node = Node(value)\n",
        "    #assign the previous head node to it\n",
        "    new_node.next = self.head\n",
        "    #make the new_node as head node\n",
        "    self.head = new_node\n",
        "    self.n += 1\n",
        "  #traverse over the data in LL\n",
        "  def __str__(self):\n",
        "    #assign head to a temperarory variable.This is used to iterate over the LL without changing the head of the LL\n",
        "    curr = self.head\n",
        "    result = ''\n",
        "    while curr != None:\n",
        "      result += str(curr.data) + \"->\"\n",
        "      curr = curr.next\n",
        "    return result[:-2] #return the result with removing the last ->\n",
        "  #add the node at the end of the list\n",
        "  def append(self,value):\n",
        "    curr = self.head\n",
        "    #create a new node which need to entered at the end of LL\n",
        "    new_node = Node(value)\n",
        "    #traverse the list till the end of the LL.i.e verify if the last element is not showing the next node address\n",
        "    while curr.next != None:\n",
        "      curr = curr.next\n",
        "    curr.next = new_node\n",
        "\n",
        "\n"
      ],
      "metadata": {
        "id": "wVN58E7m62p5"
      },
      "execution_count": 18,
      "outputs": []
    },
    {
      "cell_type": "code",
      "source": [
        "L = Linkedlist() # check if the object is able to create for the Linked list\n",
        "print(L)\n",
        "print(len(L)) # try to print the length of the Linked list"
      ],
      "metadata": {
        "colab": {
          "base_uri": "https://localhost:8080/"
        },
        "id": "43kbLjJj7Ijo",
        "outputId": "5ef083c4-ae57-4048-a5b8-dbde2da368e2"
      },
      "execution_count": 16,
      "outputs": [
        {
          "output_type": "stream",
          "name": "stdout",
          "text": [
            "\n",
            "0\n"
          ]
        }
      ]
    },
    {
      "cell_type": "markdown",
      "source": [
        "Findout the lenth of the linked list"
      ],
      "metadata": {
        "id": "0DEfMnUr7TQm"
      }
    },
    {
      "cell_type": "code",
      "source": [
        "len(L)"
      ],
      "metadata": {
        "colab": {
          "base_uri": "https://localhost:8080/"
        },
        "id": "Wo1kAH5g7X1W",
        "outputId": "cd1121ff-3243-40ce-ac34-97d3d0680fca"
      },
      "execution_count": 4,
      "outputs": [
        {
          "output_type": "execute_result",
          "data": {
            "text/plain": [
              "0"
            ]
          },
          "metadata": {},
          "execution_count": 4
        }
      ]
    },
    {
      "cell_type": "markdown",
      "source": [
        "Try to implement the following functions\n",
        "1) insert an element,\n",
        "2) Traverse\n",
        "3) Delete an element\n",
        "4) search an element with the value\n",
        "\n"
      ],
      "metadata": {
        "id": "W3OGlV4B9jxb"
      }
    },
    {
      "cell_type": "code",
      "source": [
        "L.insert_head(5)\n",
        "L.insert_head(6)\n",
        "L.insert_head(7)\n",
        "\n",
        "len(L)\n",
        "print(L)\n",
        "L.append(1)\n",
        "print(L)\n",
        "\n",
        ""
      ],
      "metadata": {
        "colab": {
          "base_uri": "https://localhost:8080/"
        },
        "id": "7aOYqkE1917E",
        "outputId": "2baa78fb-d420-47bd-fd43-c852fa7a246c"
      },
      "execution_count": 17,
      "outputs": [
        {
          "output_type": "stream",
          "name": "stdout",
          "text": [
            "7->6->5\n",
            "7->6->5->1\n"
          ]
        }
      ]
    }
  ]
}