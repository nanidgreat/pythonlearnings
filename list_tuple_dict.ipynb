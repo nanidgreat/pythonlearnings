{
  "nbformat": 4,
  "nbformat_minor": 0,
  "metadata": {
    "colab": {
      "provenance": [],
      "authorship_tag": "ABX9TyMntW8WCyKNZGIm9Idcf9Yk",
      "include_colab_link": true
    },
    "kernelspec": {
      "name": "python3",
      "display_name": "Python 3"
    },
    "language_info": {
      "name": "python"
    }
  },
  "cells": [
    {
      "cell_type": "markdown",
      "metadata": {
        "id": "view-in-github",
        "colab_type": "text"
      },
      "source": [
        "<a href=\"https://colab.research.google.com/github/nanidgreat/pythonlearnings/blob/main/list_tuple_dict.ipynb\" target=\"_parent\"><img src=\"https://colab.research.google.com/assets/colab-badge.svg\" alt=\"Open In Colab\"/></a>"
      ]
    },
    {
      "cell_type": "markdown",
      "source": [
        "# Lists\n",
        "This is a datatype, where we can store multiple items of different data types\n",
        "### Array vs Lists\n",
        "\n",
        "*   Array are homogeneous(i.e same datatype items) where Lists are hetrogeneous(i.e different data types)\n",
        "*  Arrays stores in continuos memory locations but List can store any where\n",
        "*   Arrays are faster than Lists\n",
        "*   Lists are more programmer friendly\n",
        "\n",
        "\n",
        "\n"
      ],
      "metadata": {
        "id": "r-huW3U9naRl"
      }
    },
    {
      "cell_type": "code",
      "source": [
        "#create\n",
        "l=[]\n",
        "print(l)\n",
        "l=[1,2,3,4]\n",
        "print(l)\n",
        "l=[1,1.2,\"hello\"]\n",
        "print(l)\n",
        "l=[1,2,3,[4,5,6]]\n",
        "print(l)\n",
        "l=list(\"hello\")\n",
        "print(l)\n",
        "l=list()\n",
        "print(l)\n"
      ],
      "metadata": {
        "colab": {
          "base_uri": "https://localhost:8080/"
        },
        "id": "RoqqThUmpfII",
        "outputId": "bf4c2e12-af10-49eb-aa38-818862dbaef7"
      },
      "execution_count": 5,
      "outputs": [
        {
          "output_type": "stream",
          "name": "stdout",
          "text": [
            "[]\n",
            "[1, 2, 3, 4]\n",
            "[1, 1.2, 'hello']\n",
            "[1, 2, 3, [4, 5, 6]]\n",
            "['h', 'e', 'l', 'l', 'o']\n",
            "[]\n"
          ]
        }
      ]
    },
    {
      "cell_type": "code",
      "source": [
        "#Accessing items from list\n",
        "l=[1,2,3,46,4]\n",
        "print(l[-3],l[0],l[4],sep=\"-\")\n",
        "l=[1,2,3,[4,5]]\n",
        "print(l[0],l[3][1])"
      ],
      "metadata": {
        "colab": {
          "base_uri": "https://localhost:8080/"
        },
        "id": "SRwN9qplqafa",
        "outputId": "7fb5c4e7-a74c-4fad-d597-73cda97463ab"
      },
      "execution_count": 10,
      "outputs": [
        {
          "output_type": "stream",
          "name": "stdout",
          "text": [
            "3-1-4\n",
            "1 5\n"
          ]
        }
      ]
    },
    {
      "cell_type": "code",
      "source": [
        "#Edit\n",
        "#in Python Lists are mutable\n",
        "l=[1,2,3,4]\n",
        "print(l)\n",
        "l[0]=5\n",
        "print(l)\n",
        "l[-2]=10\n",
        "print(l)"
      ],
      "metadata": {
        "colab": {
          "base_uri": "https://localhost:8080/"
        },
        "id": "1icctrygr1c_",
        "outputId": "47d4cf91-53cd-4877-d9e0-01297720b289"
      },
      "execution_count": 13,
      "outputs": [
        {
          "output_type": "stream",
          "name": "stdout",
          "text": [
            "[1, 2, 3, 4]\n",
            "[5, 2, 3, 4]\n",
            "[5, 2, 10, 4]\n"
          ]
        }
      ]
    },
    {
      "cell_type": "code",
      "source": [
        "#Add item into list\n",
        "l=[1,2,3,4]\n",
        "l.append(10)\n",
        "print(l)\n",
        "l.extend([1,2,3])\n",
        "print(l)\n",
        "l.insert(23,4)\n",
        "print(l)\n",
        "l.append([1,2]) #through append at a time we can add only one item at a item\n",
        "print(l)\n",
        "l.extend(\"goa\") #we can add multiple items at the end\n",
        "print(l)"
      ],
      "metadata": {
        "colab": {
          "base_uri": "https://localhost:8080/"
        },
        "id": "EmvCHegesyU4",
        "outputId": "5cea3782-29c7-4ff0-8145-d53e91a2bce8"
      },
      "execution_count": 20,
      "outputs": [
        {
          "output_type": "stream",
          "name": "stdout",
          "text": [
            "[1, 2, 3, 4, 10]\n",
            "[1, 2, 3, 4, 10, 1, 2, 3]\n",
            "[1, 2, 3, 4, 10, 1, 2, 3, 4]\n",
            "[1, 2, 3, 4, 10, 1, 2, 3, 4, [1, 2]]\n",
            "[1, 2, 3, 4, 10, 1, 2, 3, 4, [1, 2], 'g', 'o', 'a']\n"
          ]
        }
      ]
    },
    {
      "cell_type": "code",
      "source": [
        "#delete\n",
        "l=[1,2,3,4,5,6,'g','o','a']\n",
        "del(l[0])\n",
        "print(l)\n",
        "del(l[-3:])\n",
        "print(l)\n",
        "del(l[0:4])\n",
        "print(l)\n",
        "\n"
      ],
      "metadata": {
        "colab": {
          "base_uri": "https://localhost:8080/"
        },
        "id": "UzuGmWlOuiw3",
        "outputId": "577f600e-14f9-4c8f-b1d3-fbd5ce8d3bfe"
      },
      "execution_count": 31,
      "outputs": [
        {
          "output_type": "stream",
          "name": "stdout",
          "text": [
            "[2, 3, 4, 5, 6, 'g', 'o', 'a']\n",
            "[2, 3, 4, 5, 6]\n",
            "[6]\n"
          ]
        }
      ]
    },
    {
      "cell_type": "code",
      "source": [
        "#remove\n",
        "l=[1,2,3,4,5,6,'g','o','a',\"hello\",[1,2,3]]\n",
        "l.remove(\"g\")\n",
        "print(l)\n",
        "l.remove(\"hello\")\n",
        "print(l)\n",
        "l.remove([1,2,3])\n",
        "print(l)\n",
        "l.remove(1,2,3)"
      ],
      "metadata": {
        "colab": {
          "base_uri": "https://localhost:8080/",
          "height": 228
        },
        "id": "_ZEVrl-Kmic-",
        "outputId": "5b631b09-f49f-45d1-9384-80d022c75901"
      },
      "execution_count": 38,
      "outputs": [
        {
          "output_type": "stream",
          "name": "stdout",
          "text": [
            "[1, 2, 3, 4, 5, 6, 'o', 'a', 'hello', [1, 2, 3]]\n",
            "[1, 2, 3, 4, 5, 6, 'o', 'a', [1, 2, 3]]\n",
            "[1, 2, 3, 4, 5, 6, 'o', 'a']\n"
          ]
        },
        {
          "output_type": "error",
          "ename": "ValueError",
          "evalue": "list.remove(x): x not in list",
          "traceback": [
            "\u001b[0;31m---------------------------------------------------------------------------\u001b[0m",
            "\u001b[0;31mValueError\u001b[0m                                Traceback (most recent call last)",
            "\u001b[0;32m/tmp/ipython-input-3071122074.py\u001b[0m in \u001b[0;36m<cell line: 0>\u001b[0;34m()\u001b[0m\n\u001b[1;32m      7\u001b[0m \u001b[0ml\u001b[0m\u001b[0;34m.\u001b[0m\u001b[0mremove\u001b[0m\u001b[0;34m(\u001b[0m\u001b[0;34m[\u001b[0m\u001b[0;36m1\u001b[0m\u001b[0;34m,\u001b[0m\u001b[0;36m2\u001b[0m\u001b[0;34m,\u001b[0m\u001b[0;36m3\u001b[0m\u001b[0;34m]\u001b[0m\u001b[0;34m)\u001b[0m\u001b[0;34m\u001b[0m\u001b[0;34m\u001b[0m\u001b[0m\n\u001b[1;32m      8\u001b[0m \u001b[0mprint\u001b[0m\u001b[0;34m(\u001b[0m\u001b[0ml\u001b[0m\u001b[0;34m)\u001b[0m\u001b[0;34m\u001b[0m\u001b[0;34m\u001b[0m\u001b[0m\n\u001b[0;32m----> 9\u001b[0;31m \u001b[0ml\u001b[0m\u001b[0;34m.\u001b[0m\u001b[0mremove\u001b[0m\u001b[0;34m(\u001b[0m\u001b[0;34m\"1,2,3\"\u001b[0m\u001b[0;34m)\u001b[0m\u001b[0;34m\u001b[0m\u001b[0;34m\u001b[0m\u001b[0m\n\u001b[0m",
            "\u001b[0;31mValueError\u001b[0m: list.remove(x): x not in list"
          ]
        }
      ]
    },
    {
      "cell_type": "code",
      "source": [
        "#pop\n",
        "l=[1,2,3,4,5,6,'g','o','a',\"hello\",[1,2,3]]\n",
        "l.pop()\n",
        "print(l)\n",
        "l.pop(\"a\")\n",
        "print(l)"
      ],
      "metadata": {
        "colab": {
          "base_uri": "https://localhost:8080/",
          "height": 211
        },
        "id": "Rmbm_uSHnXCx",
        "outputId": "d59109a6-e855-4d09-c8ca-1ed6a02ea979"
      },
      "execution_count": 40,
      "outputs": [
        {
          "output_type": "stream",
          "name": "stdout",
          "text": [
            "[1, 2, 3, 4, 5, 6, 'g', 'o', 'a', 'hello']\n"
          ]
        },
        {
          "output_type": "error",
          "ename": "TypeError",
          "evalue": "'str' object cannot be interpreted as an integer",
          "traceback": [
            "\u001b[0;31m---------------------------------------------------------------------------\u001b[0m",
            "\u001b[0;31mTypeError\u001b[0m                                 Traceback (most recent call last)",
            "\u001b[0;32m/tmp/ipython-input-863347670.py\u001b[0m in \u001b[0;36m<cell line: 0>\u001b[0;34m()\u001b[0m\n\u001b[1;32m      3\u001b[0m \u001b[0ml\u001b[0m\u001b[0;34m.\u001b[0m\u001b[0mpop\u001b[0m\u001b[0;34m(\u001b[0m\u001b[0;34m)\u001b[0m\u001b[0;34m\u001b[0m\u001b[0;34m\u001b[0m\u001b[0m\n\u001b[1;32m      4\u001b[0m \u001b[0mprint\u001b[0m\u001b[0;34m(\u001b[0m\u001b[0ml\u001b[0m\u001b[0;34m)\u001b[0m\u001b[0;34m\u001b[0m\u001b[0;34m\u001b[0m\u001b[0m\n\u001b[0;32m----> 5\u001b[0;31m \u001b[0ml\u001b[0m\u001b[0;34m.\u001b[0m\u001b[0mpop\u001b[0m\u001b[0;34m(\u001b[0m\u001b[0;34m\"a\"\u001b[0m\u001b[0;34m)\u001b[0m\u001b[0;34m\u001b[0m\u001b[0;34m\u001b[0m\u001b[0m\n\u001b[0m\u001b[1;32m      6\u001b[0m \u001b[0mprint\u001b[0m\u001b[0;34m(\u001b[0m\u001b[0ml\u001b[0m\u001b[0;34m)\u001b[0m\u001b[0;34m\u001b[0m\u001b[0;34m\u001b[0m\u001b[0m\n",
            "\u001b[0;31mTypeError\u001b[0m: 'str' object cannot be interpreted as an integer"
          ]
        }
      ]
    }
  ]
}