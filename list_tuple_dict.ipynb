{
  "nbformat": 4,
  "nbformat_minor": 0,
  "metadata": {
    "colab": {
      "provenance": [],
      "authorship_tag": "ABX9TyNJRzpI0XOIMoQPRbUk3GHR",
      "include_colab_link": true
    },
    "kernelspec": {
      "name": "python3",
      "display_name": "Python 3"
    },
    "language_info": {
      "name": "python"
    }
  },
  "cells": [
    {
      "cell_type": "markdown",
      "metadata": {
        "id": "view-in-github",
        "colab_type": "text"
      },
      "source": [
        "<a href=\"https://colab.research.google.com/github/nanidgreat/pythonlearnings/blob/main/list_tuple_dict.ipynb\" target=\"_parent\"><img src=\"https://colab.research.google.com/assets/colab-badge.svg\" alt=\"Open In Colab\"/></a>"
      ]
    },
    {
      "cell_type": "markdown",
      "source": [
        "# Lists\n",
        "This is a datatype, where we can store multiple items of different data types\n",
        "### Array vs Lists\n",
        "\n",
        "*   Array are homogeneous(i.e same datatype items) where Lists are hetrogeneous(i.e different data types)\n",
        "*  Arrays stores in continuos memory locations but List can store any where\n",
        "*   Arrays are faster than Lists\n",
        "*   Lists are more programmer friendly\n",
        "\n",
        "\n",
        "\n"
      ],
      "metadata": {
        "id": "r-huW3U9naRl"
      }
    },
    {
      "cell_type": "code",
      "source": [
        "#create\n",
        "l=[]\n",
        "print(l)\n",
        "l=[1,2,3,4]\n",
        "print(l)\n",
        "l=[1,1.2,\"hello\"]\n",
        "print(l)\n",
        "l=[1,2,3,[4,5,6]]\n",
        "print(l)\n",
        "l=list(\"hello\")\n",
        "print(l)\n",
        "l=list()\n",
        "print(l)\n"
      ],
      "metadata": {
        "colab": {
          "base_uri": "https://localhost:8080/"
        },
        "id": "RoqqThUmpfII",
        "outputId": "bf4c2e12-af10-49eb-aa38-818862dbaef7"
      },
      "execution_count": null,
      "outputs": [
        {
          "output_type": "stream",
          "name": "stdout",
          "text": [
            "[]\n",
            "[1, 2, 3, 4]\n",
            "[1, 1.2, 'hello']\n",
            "[1, 2, 3, [4, 5, 6]]\n",
            "['h', 'e', 'l', 'l', 'o']\n",
            "[]\n"
          ]
        }
      ]
    },
    {
      "cell_type": "code",
      "source": [
        "#Accessing items from list\n",
        "l=[1,2,3,46,4]\n",
        "print(l[-3],l[0],l[4],sep=\"-\")\n",
        "l=[1,2,3,[4,5]]\n",
        "print(l[0],l[3][1])"
      ],
      "metadata": {
        "colab": {
          "base_uri": "https://localhost:8080/"
        },
        "id": "SRwN9qplqafa",
        "outputId": "7fb5c4e7-a74c-4fad-d597-73cda97463ab"
      },
      "execution_count": null,
      "outputs": [
        {
          "output_type": "stream",
          "name": "stdout",
          "text": [
            "3-1-4\n",
            "1 5\n"
          ]
        }
      ]
    },
    {
      "cell_type": "code",
      "source": [
        "#Edit\n",
        "#in Python Lists are mutable\n",
        "l=[1,2,3,4]\n",
        "print(l)\n",
        "l[0]=5\n",
        "print(l)\n",
        "l[-2]=10\n",
        "print(l)"
      ],
      "metadata": {
        "colab": {
          "base_uri": "https://localhost:8080/"
        },
        "id": "1icctrygr1c_",
        "outputId": "47d4cf91-53cd-4877-d9e0-01297720b289"
      },
      "execution_count": null,
      "outputs": [
        {
          "output_type": "stream",
          "name": "stdout",
          "text": [
            "[1, 2, 3, 4]\n",
            "[5, 2, 3, 4]\n",
            "[5, 2, 10, 4]\n"
          ]
        }
      ]
    },
    {
      "cell_type": "code",
      "source": [
        "#Add item into list\n",
        "l=[1,2,3,4]\n",
        "l.append(10)\n",
        "print(l)\n",
        "l.extend([1,2,3])\n",
        "print(l)\n",
        "l.insert(23,4)\n",
        "print(l)\n",
        "l.append([1,2]) #through append at a time we can add only one item at a item\n",
        "print(l)\n",
        "l.extend(\"goa\") #we can add multiple items at the end\n",
        "print(l)"
      ],
      "metadata": {
        "colab": {
          "base_uri": "https://localhost:8080/"
        },
        "id": "EmvCHegesyU4",
        "outputId": "5cea3782-29c7-4ff0-8145-d53e91a2bce8"
      },
      "execution_count": null,
      "outputs": [
        {
          "output_type": "stream",
          "name": "stdout",
          "text": [
            "[1, 2, 3, 4, 10]\n",
            "[1, 2, 3, 4, 10, 1, 2, 3]\n",
            "[1, 2, 3, 4, 10, 1, 2, 3, 4]\n",
            "[1, 2, 3, 4, 10, 1, 2, 3, 4, [1, 2]]\n",
            "[1, 2, 3, 4, 10, 1, 2, 3, 4, [1, 2], 'g', 'o', 'a']\n"
          ]
        }
      ]
    },
    {
      "cell_type": "code",
      "source": [
        "#delete\n",
        "l=[1,2,3,4,5,6,'g','o','a']\n",
        "del(l[0])\n",
        "print(l)\n",
        "del(l[-3:])\n",
        "print(l)\n",
        "del(l[0:4])\n",
        "print(l)\n",
        "\n"
      ],
      "metadata": {
        "colab": {
          "base_uri": "https://localhost:8080/"
        },
        "id": "UzuGmWlOuiw3",
        "outputId": "577f600e-14f9-4c8f-b1d3-fbd5ce8d3bfe"
      },
      "execution_count": null,
      "outputs": [
        {
          "output_type": "stream",
          "name": "stdout",
          "text": [
            "[2, 3, 4, 5, 6, 'g', 'o', 'a']\n",
            "[2, 3, 4, 5, 6]\n",
            "[6]\n"
          ]
        }
      ]
    },
    {
      "cell_type": "code",
      "source": [
        "#remove\n",
        "l=[1,2,3,4,5,6,'g','o','a',\"hello\",[1,2,3]]\n",
        "l.remove(\"g\")\n",
        "print(l)\n",
        "l.remove(\"hello\")\n",
        "print(l)\n",
        "l.remove([1,2,3])\n",
        "print(l)\n",
        "l.remove(1,2,3)"
      ],
      "metadata": {
        "colab": {
          "base_uri": "https://localhost:8080/",
          "height": 228
        },
        "id": "_ZEVrl-Kmic-",
        "outputId": "5b631b09-f49f-45d1-9384-80d022c75901"
      },
      "execution_count": null,
      "outputs": [
        {
          "output_type": "stream",
          "name": "stdout",
          "text": [
            "[1, 2, 3, 4, 5, 6, 'o', 'a', 'hello', [1, 2, 3]]\n",
            "[1, 2, 3, 4, 5, 6, 'o', 'a', [1, 2, 3]]\n",
            "[1, 2, 3, 4, 5, 6, 'o', 'a']\n"
          ]
        },
        {
          "output_type": "error",
          "ename": "ValueError",
          "evalue": "list.remove(x): x not in list",
          "traceback": [
            "\u001b[0;31m---------------------------------------------------------------------------\u001b[0m",
            "\u001b[0;31mValueError\u001b[0m                                Traceback (most recent call last)",
            "\u001b[0;32m/tmp/ipython-input-3071122074.py\u001b[0m in \u001b[0;36m<cell line: 0>\u001b[0;34m()\u001b[0m\n\u001b[1;32m      7\u001b[0m \u001b[0ml\u001b[0m\u001b[0;34m.\u001b[0m\u001b[0mremove\u001b[0m\u001b[0;34m(\u001b[0m\u001b[0;34m[\u001b[0m\u001b[0;36m1\u001b[0m\u001b[0;34m,\u001b[0m\u001b[0;36m2\u001b[0m\u001b[0;34m,\u001b[0m\u001b[0;36m3\u001b[0m\u001b[0;34m]\u001b[0m\u001b[0;34m)\u001b[0m\u001b[0;34m\u001b[0m\u001b[0;34m\u001b[0m\u001b[0m\n\u001b[1;32m      8\u001b[0m \u001b[0mprint\u001b[0m\u001b[0;34m(\u001b[0m\u001b[0ml\u001b[0m\u001b[0;34m)\u001b[0m\u001b[0;34m\u001b[0m\u001b[0;34m\u001b[0m\u001b[0m\n\u001b[0;32m----> 9\u001b[0;31m \u001b[0ml\u001b[0m\u001b[0;34m.\u001b[0m\u001b[0mremove\u001b[0m\u001b[0;34m(\u001b[0m\u001b[0;34m\"1,2,3\"\u001b[0m\u001b[0;34m)\u001b[0m\u001b[0;34m\u001b[0m\u001b[0;34m\u001b[0m\u001b[0m\n\u001b[0m",
            "\u001b[0;31mValueError\u001b[0m: list.remove(x): x not in list"
          ]
        }
      ]
    },
    {
      "cell_type": "code",
      "source": [
        "#pop\n",
        "l=[1,2,3,4,5,6,'g','o','a',\"hello\",[1,2,3]]\n",
        "l.pop()\n",
        "print(l)\n",
        "l.pop(\"a\")\n",
        "print(l)"
      ],
      "metadata": {
        "colab": {
          "base_uri": "https://localhost:8080/",
          "height": 211
        },
        "id": "Rmbm_uSHnXCx",
        "outputId": "d59109a6-e855-4d09-c8ca-1ed6a02ea979"
      },
      "execution_count": null,
      "outputs": [
        {
          "output_type": "stream",
          "name": "stdout",
          "text": [
            "[1, 2, 3, 4, 5, 6, 'g', 'o', 'a', 'hello']\n"
          ]
        },
        {
          "output_type": "error",
          "ename": "TypeError",
          "evalue": "'str' object cannot be interpreted as an integer",
          "traceback": [
            "\u001b[0;31m---------------------------------------------------------------------------\u001b[0m",
            "\u001b[0;31mTypeError\u001b[0m                                 Traceback (most recent call last)",
            "\u001b[0;32m/tmp/ipython-input-863347670.py\u001b[0m in \u001b[0;36m<cell line: 0>\u001b[0;34m()\u001b[0m\n\u001b[1;32m      3\u001b[0m \u001b[0ml\u001b[0m\u001b[0;34m.\u001b[0m\u001b[0mpop\u001b[0m\u001b[0;34m(\u001b[0m\u001b[0;34m)\u001b[0m\u001b[0;34m\u001b[0m\u001b[0;34m\u001b[0m\u001b[0m\n\u001b[1;32m      4\u001b[0m \u001b[0mprint\u001b[0m\u001b[0;34m(\u001b[0m\u001b[0ml\u001b[0m\u001b[0;34m)\u001b[0m\u001b[0;34m\u001b[0m\u001b[0;34m\u001b[0m\u001b[0m\n\u001b[0;32m----> 5\u001b[0;31m \u001b[0ml\u001b[0m\u001b[0;34m.\u001b[0m\u001b[0mpop\u001b[0m\u001b[0;34m(\u001b[0m\u001b[0;34m\"a\"\u001b[0m\u001b[0;34m)\u001b[0m\u001b[0;34m\u001b[0m\u001b[0;34m\u001b[0m\u001b[0m\n\u001b[0m\u001b[1;32m      6\u001b[0m \u001b[0mprint\u001b[0m\u001b[0;34m(\u001b[0m\u001b[0ml\u001b[0m\u001b[0;34m)\u001b[0m\u001b[0;34m\u001b[0m\u001b[0;34m\u001b[0m\u001b[0m\n",
            "\u001b[0;31mTypeError\u001b[0m: 'str' object cannot be interpreted as an integer"
          ]
        }
      ]
    },
    {
      "cell_type": "code",
      "source": [
        "#clear\n",
        "l=[1,2,3,4,5,6,'g','o','a',\"hello\",[1,2,3]]\n",
        "l.clear()\n",
        "print(l)"
      ],
      "metadata": {
        "colab": {
          "base_uri": "https://localhost:8080/"
        },
        "id": "3yh3eLzrLoWa",
        "outputId": "f44ac769-255b-447c-df60-e15ce441f76b"
      },
      "execution_count": 1,
      "outputs": [
        {
          "output_type": "stream",
          "name": "stdout",
          "text": [
            "[]\n"
          ]
        }
      ]
    },
    {
      "cell_type": "code",
      "source": [
        "#operations performed on Lists\n",
        "l=[1,2,3,4]\n",
        "l1=[5,6,7,8]\n",
        "print(l+l1,l,l1,sep=\"-\")\n",
        "print(l*3,l,sep=\"-\")\n",
        "for i in l:\n",
        "  print(i)\n",
        "if 2 in l:\n",
        "  print(\"yes\")\n",
        "else:\n",
        "  print(\"No\")\n"
      ],
      "metadata": {
        "colab": {
          "base_uri": "https://localhost:8080/"
        },
        "id": "KSsmrYuhL3SG",
        "outputId": "b6e628ae-3d77-427d-e985-5ff4e4efa2a1"
      },
      "execution_count": 13,
      "outputs": [
        {
          "output_type": "stream",
          "name": "stdout",
          "text": [
            "[1, 2, 3, 4, 5, 6, 7, 8]-[1, 2, 3, 4]-[5, 6, 7, 8]\n",
            "[1, 2, 3, 4, 1, 2, 3, 4, 1, 2, 3, 4]-[1, 2, 3, 4]\n",
            "1\n",
            "2\n",
            "3\n",
            "4\n",
            "yes\n"
          ]
        }
      ]
    },
    {
      "cell_type": "code",
      "source": [
        "#functions performed on Lists\n",
        "l=[5,4,3,0]\n",
        "print(len(l),min(l),max(l),sep=\"-\")\n",
        "l.append(2)\n",
        "print(l)\n",
        "l.insert(3,10)\n",
        "print(l)\n",
        "sorted(l,reverse=True)\n",
        "print(sorted(l,reverse=True))\n",
        "print(l)\n",
        "l.sort(reverse=True)\n",
        "print(l)\n",
        "\n"
      ],
      "metadata": {
        "colab": {
          "base_uri": "https://localhost:8080/"
        },
        "id": "Kwy-aQZQNUEr",
        "outputId": "464bdb29-2e46-466b-dd01-a1a2950f0264"
      },
      "execution_count": 19,
      "outputs": [
        {
          "output_type": "stream",
          "name": "stdout",
          "text": [
            "4-0-5\n",
            "[5, 4, 3, 0, 2]\n",
            "[5, 4, 3, 10, 0, 2]\n",
            "[10, 5, 4, 3, 2, 0]\n",
            "[5, 4, 3, 10, 0, 2]\n",
            "[10, 5, 4, 3, 2, 0]\n"
          ]
        }
      ]
    },
    {
      "cell_type": "code",
      "source": [
        "# sample questions 1\n",
        "\"hi how are you\".title() # incase if title is not available is python, then create some code which can convert a given string to title\n",
        "l=input(\"Enter a string \")\n",
        "cmd=[]\n",
        "for i in l.split():\n",
        "  cmd.append(i.capitalize())\n",
        "print(\" \".join(cmd))"
      ],
      "metadata": {
        "colab": {
          "base_uri": "https://localhost:8080/"
        },
        "id": "3wbsSkxGPmw7",
        "outputId": "0c8d4a4e-3948-430d-866e-b40896414b64"
      },
      "execution_count": 47,
      "outputs": [
        {
          "output_type": "stream",
          "name": "stdout",
          "text": [
            "Enter a string how are you man\n",
            "How Are You Man\n"
          ]
        }
      ]
    },
    {
      "cell_type": "code",
      "source": [
        "# sample questions 2\n",
        "sample=\"guru@gmail.com\" # just get the name of the person\n",
        "print(sample[:sample.find(\"@\")])"
      ],
      "metadata": {
        "colab": {
          "base_uri": "https://localhost:8080/"
        },
        "id": "0qm3lqkUVwyt",
        "outputId": "ea1288a1-d68a-4fb1-e373-21c02adccf6b"
      },
      "execution_count": 46,
      "outputs": [
        {
          "output_type": "stream",
          "name": "stdout",
          "text": [
            "guru\n"
          ]
        }
      ]
    },
    {
      "cell_type": "code",
      "source": [
        "#remove duplicate items from the list\n",
        "l=[1,1,2,2,3,4,5,3]\n",
        "print(set(l))\n",
        "L=[]\n",
        "for i in l:\n",
        "  if i not in L:\n",
        "    L.append(i)\n",
        "print(L)"
      ],
      "metadata": {
        "colab": {
          "base_uri": "https://localhost:8080/"
        },
        "id": "Dv8RdN-dV63-",
        "outputId": "25928dbf-eb71-4ca0-848f-74669f012564"
      },
      "execution_count": 54,
      "outputs": [
        {
          "output_type": "stream",
          "name": "stdout",
          "text": [
            "{1, 2, 3, 4, 5}\n",
            "[1, 2, 3, 4, 5]\n"
          ]
        }
      ]
    },
    {
      "cell_type": "markdown",
      "source": [],
      "metadata": {
        "id": "gEfLiqbkQmAJ"
      }
    }
  ]
}